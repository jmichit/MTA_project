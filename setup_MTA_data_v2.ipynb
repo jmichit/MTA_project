{
 "cells": [
  {
   "cell_type": "code",
   "execution_count": 1,
   "metadata": {},
   "outputs": [],
   "source": [
    "from datetime import datetime, timedelta"
   ]
  },
  {
   "cell_type": "code",
   "execution_count": 2,
   "metadata": {},
   "outputs": [],
   "source": [
    "import urllib.request"
   ]
  },
  {
   "cell_type": "code",
   "execution_count": 3,
   "metadata": {},
   "outputs": [],
   "source": [
    "def MTA_turnstile_dates(start, end=datetime.now()):\n",
    "    \"\"\" \n",
    "    Returns a list of weekly dates between [start and end)\n",
    "    \"\"\"\n",
    "    dates = []\n",
    "    current = start\n",
    "    while current <= end:\n",
    "        dates.append(current.strftime(format=\"%y%m%d\"))\n",
    "        current = current + timedelta(days = 7)\n",
    "    return dates"
   ]
  },
  {
   "cell_type": "code",
   "execution_count": 5,
   "metadata": {},
   "outputs": [
    {
     "data": {
      "text/plain": [
       "['200801',\n",
       " '200808',\n",
       " '200815',\n",
       " '200822',\n",
       " '200829',\n",
       " '200905',\n",
       " '200912',\n",
       " '200919',\n",
       " '200926',\n",
       " '201003',\n",
       " '201010',\n",
       " '201017',\n",
       " '201024',\n",
       " '201031',\n",
       " '201107',\n",
       " '201114',\n",
       " '201121',\n",
       " '201128',\n",
       " '201205',\n",
       " '201212',\n",
       " '201219',\n",
       " '201226',\n",
       " '210102',\n",
       " '210109',\n",
       " '210116',\n",
       " '210123',\n",
       " '210130',\n",
       " '210206',\n",
       " '210213',\n",
       " '210220',\n",
       " '210227',\n",
       " '210306']"
      ]
     },
     "execution_count": 5,
     "metadata": {},
     "output_type": "execute_result"
    }
   ],
   "source": [
    "weeknums = MTA_turnstile_dates(datetime(2020,8,1), datetime(2021,3,6) )\n",
    "weeknums"
   ]
  },
  {
   "cell_type": "code",
   "execution_count": 6,
   "metadata": {},
   "outputs": [],
   "source": [
    "# Test function error handling when file does not exist\n",
    "# No turnsilt efile for '210228' \n",
    "#weeknums = ['210206', '210213', '210220', '210228', '210306']"
   ]
  },
  {
   "cell_type": "code",
   "execution_count": 7,
   "metadata": {},
   "outputs": [],
   "source": [
    "def download_MTA_turnstile_data(dates):\n",
    "    \"\"\"\n",
    "    Downloads MTA_turnstile data for specific dates (in YYMMDD format) from MTA website\n",
    "    \"\"\"\n",
    "    url = \"http://web.mta.info/developers/data/nyct/turnstile/turnstile_{}.txt\"\n",
    "    output = \"data/turnstile_{}.csv\"\n",
    "    for weeknum in weeknums:\n",
    "        try:\n",
    "            urllib.request.urlretrieve(url.format(weeknum), output.format(weeknum))\n",
    "            print(\"File *{}* created\".format(output.format(weeknum)))\n",
    "        except urllib.error.HTTPError as err:\n",
    "            print(\"Http error > {} < - file *{}* NOT created\".format(err.msg + \" \" + str(err.code), output.format(weeknum)))"
   ]
  },
  {
   "cell_type": "code",
   "execution_count": 8,
   "metadata": {},
   "outputs": [
    {
     "name": "stdout",
     "output_type": "stream",
     "text": [
      "File *data/turnstile_200801.csv* created\n",
      "File *data/turnstile_200808.csv* created\n",
      "File *data/turnstile_200815.csv* created\n",
      "File *data/turnstile_200822.csv* created\n",
      "File *data/turnstile_200829.csv* created\n",
      "File *data/turnstile_200905.csv* created\n",
      "File *data/turnstile_200912.csv* created\n",
      "File *data/turnstile_200919.csv* created\n",
      "File *data/turnstile_200926.csv* created\n",
      "File *data/turnstile_201003.csv* created\n",
      "File *data/turnstile_201010.csv* created\n",
      "File *data/turnstile_201017.csv* created\n",
      "File *data/turnstile_201024.csv* created\n",
      "File *data/turnstile_201031.csv* created\n",
      "File *data/turnstile_201107.csv* created\n",
      "File *data/turnstile_201114.csv* created\n",
      "File *data/turnstile_201121.csv* created\n",
      "File *data/turnstile_201128.csv* created\n",
      "File *data/turnstile_201205.csv* created\n",
      "File *data/turnstile_201212.csv* created\n",
      "File *data/turnstile_201219.csv* created\n",
      "File *data/turnstile_201226.csv* created\n",
      "File *data/turnstile_210102.csv* created\n",
      "File *data/turnstile_210109.csv* created\n",
      "File *data/turnstile_210116.csv* created\n",
      "File *data/turnstile_210123.csv* created\n",
      "File *data/turnstile_210130.csv* created\n",
      "File *data/turnstile_210206.csv* created\n",
      "File *data/turnstile_210213.csv* created\n",
      "File *data/turnstile_210220.csv* created\n",
      "File *data/turnstile_210227.csv* created\n",
      "File *data/turnstile_210306.csv* created\n"
     ]
    }
   ],
   "source": [
    "download_MTA_turnstile_data(weeknums)"
   ]
  },
  {
   "cell_type": "code",
   "execution_count": 9,
   "metadata": {},
   "outputs": [
    {
     "name": "stdout",
     "output_type": "stream",
     "text": [
      "\u001b[34mold\u001b[m\u001b[m                  turnstile_201010.csv turnstile_201226.csv\r\n",
      "turnstile_200801.csv turnstile_201017.csv turnstile_210102.csv\r\n",
      "turnstile_200808.csv turnstile_201024.csv turnstile_210109.csv\r\n",
      "turnstile_200815.csv turnstile_201031.csv turnstile_210116.csv\r\n",
      "turnstile_200822.csv turnstile_201107.csv turnstile_210123.csv\r\n",
      "turnstile_200829.csv turnstile_201114.csv turnstile_210130.csv\r\n",
      "turnstile_200905.csv turnstile_201121.csv turnstile_210206.csv\r\n",
      "turnstile_200912.csv turnstile_201128.csv turnstile_210213.csv\r\n",
      "turnstile_200919.csv turnstile_201205.csv turnstile_210220.csv\r\n",
      "turnstile_200926.csv turnstile_201212.csv turnstile_210227.csv\r\n",
      "turnstile_201003.csv turnstile_201219.csv turnstile_210306.csv\r\n"
     ]
    }
   ],
   "source": [
    "! ls data\n"
   ]
  },
  {
   "cell_type": "code",
   "execution_count": 10,
   "metadata": {},
   "outputs": [
    {
     "name": "stdout",
     "output_type": "stream",
     "text": [
      "wc: ./data/old: read: Is a directory\n",
      "  206705 ./data/turnstile_200801.csv\n",
      "  207113 ./data/turnstile_200808.csv\n",
      "  206782 ./data/turnstile_200815.csv\n",
      "  209762 ./data/turnstile_200822.csv\n",
      "  217833 ./data/turnstile_200829.csv\n",
      "  208052 ./data/turnstile_200905.csv\n",
      "  210586 ./data/turnstile_200912.csv\n",
      "  209662 ./data/turnstile_200919.csv\n",
      "  209831 ./data/turnstile_200926.csv\n",
      "  212159 ./data/turnstile_201003.csv\n",
      "  210221 ./data/turnstile_201010.csv\n",
      "  207668 ./data/turnstile_201017.csv\n",
      "  211325 ./data/turnstile_201024.csv\n",
      "  211985 ./data/turnstile_201031.csv\n",
      "  213106 ./data/turnstile_201107.csv\n",
      "  208777 ./data/turnstile_201114.csv\n",
      "  210258 ./data/turnstile_201121.csv\n",
      "  209779 ./data/turnstile_201128.csv\n",
      "  209781 ./data/turnstile_201205.csv\n",
      "  210404 ./data/turnstile_201212.csv\n",
      "  210923 ./data/turnstile_201219.csv\n",
      "  212300 ./data/turnstile_201226.csv\n",
      "  210434 ./data/turnstile_210102.csv\n",
      "  210167 ./data/turnstile_210109.csv\n",
      "  209882 ./data/turnstile_210116.csv\n",
      "  208846 ./data/turnstile_210123.csv\n",
      "  208916 ./data/turnstile_210130.csv\n",
      "  209080 ./data/turnstile_210206.csv\n",
      "  208622 ./data/turnstile_210213.csv\n",
      "  209045 ./data/turnstile_210220.csv\n",
      "  209928 ./data/turnstile_210227.csv\n",
      "  209076 ./data/turnstile_210306.csv\n",
      " 6719008 total\n"
     ]
    }
   ],
   "source": [
    "! wc -l ./data/*"
   ]
  },
  {
   "cell_type": "code",
   "execution_count": 11,
   "metadata": {},
   "outputs": [],
   "source": [
    "#! head -1 ./data/turnstile_201219.csv > combined.csv"
   ]
  },
  {
   "cell_type": "code",
   "execution_count": 12,
   "metadata": {},
   "outputs": [],
   "source": [
    "!touch combined.csv"
   ]
  },
  {
   "cell_type": "code",
   "execution_count": 15,
   "metadata": {},
   "outputs": [],
   "source": [
    "! tail -n +2 -q ./data/*.csv >> combined.csv"
   ]
  },
  {
   "cell_type": "code",
   "execution_count": null,
   "metadata": {},
   "outputs": [],
   "source": [
    "dd! head combined.csv\n"
   ]
  },
  {
   "cell_type": "code",
   "execution_count": null,
   "metadata": {},
   "outputs": [],
   "source": [
    "! wc -l combined.csv"
   ]
  },
  {
   "cell_type": "code",
   "execution_count": null,
   "metadata": {},
   "outputs": [],
   "source": [
    "1046300 - 5"
   ]
  },
  {
   "cell_type": "code",
   "execution_count": null,
   "metadata": {},
   "outputs": [],
   "source": [
    "! wc -l ./data/*.csv | tail -1"
   ]
  },
  {
   "cell_type": "code",
   "execution_count": 16,
   "metadata": {},
   "outputs": [
    {
     "name": "stdout",
     "output_type": "stream",
     "text": [
      "Object `pd.merge` not found.\n"
     ]
    }
   ],
   "source": []
  },
  {
   "cell_type": "code",
   "execution_count": null,
   "metadata": {},
   "outputs": [],
   "source": []
  }
 ],
 "metadata": {
  "kernelspec": {
   "display_name": "Python 3",
   "language": "python",
   "name": "python3"
  },
  "language_info": {
   "codemirror_mode": {
    "name": "ipython",
    "version": 3
   },
   "file_extension": ".py",
   "mimetype": "text/x-python",
   "name": "python",
   "nbconvert_exporter": "python",
   "pygments_lexer": "ipython3",
   "version": "3.8.8"
  }
 },
 "nbformat": 4,
 "nbformat_minor": 4
}
